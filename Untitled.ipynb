{
 "cells": [
  {
   "cell_type": "code",
   "execution_count": 1,
   "metadata": {},
   "outputs": [],
   "source": [
    "import numpy as np\n",
    "import matplotlib.pyplot as plt\n",
    "from matplotlib import rc\n",
    "from pylab import *\n",
    "import json\n",
    "import os\n",
    "import pdb\n",
    "import re\n",
    "import math"
   ]
  },
  {
   "cell_type": "code",
   "execution_count": 2,
   "metadata": {},
   "outputs": [
    {
     "ename": "IndexError",
     "evalue": "index 5 is out of bounds for axis 0 with size 5",
     "output_type": "error",
     "traceback": [
      "\u001b[1;31m---------------------------------------------------------------------------\u001b[0m",
      "\u001b[1;31mIndexError\u001b[0m                                Traceback (most recent call last)",
      "\u001b[1;32m<ipython-input-2-556bcde3eec9>\u001b[0m in \u001b[0;36m<module>\u001b[1;34m\u001b[0m\n\u001b[0;32m     45\u001b[0m     \u001b[0mb5\u001b[0m \u001b[1;33m=\u001b[0m \u001b[0max\u001b[0m\u001b[1;33m.\u001b[0m\u001b[0mbar\u001b[0m\u001b[1;33m(\u001b[0m\u001b[0mx5\u001b[0m\u001b[1;33m,\u001b[0m \u001b[0my\u001b[0m\u001b[1;33m[\u001b[0m\u001b[1;36m3\u001b[0m\u001b[1;33m]\u001b[0m\u001b[1;33m,\u001b[0m\u001b[0mwidth\u001b[0m\u001b[1;33m=\u001b[0m\u001b[1;36m0.1\u001b[0m\u001b[1;33m,\u001b[0m\u001b[0mcolor\u001b[0m \u001b[1;33m=\u001b[0m \u001b[1;34m'darkcyan'\u001b[0m\u001b[1;33m,\u001b[0m \u001b[0malign\u001b[0m\u001b[1;33m=\u001b[0m\u001b[1;34m'center'\u001b[0m\u001b[1;33m,\u001b[0m  \u001b[0mhatch\u001b[0m\u001b[1;33m=\u001b[0m\u001b[1;34m\"--\"\u001b[0m\u001b[1;33m,\u001b[0m\u001b[0medgecolor\u001b[0m\u001b[1;33m=\u001b[0m\u001b[1;34m'#000000'\u001b[0m\u001b[1;33m)\u001b[0m\u001b[1;33m\u001b[0m\u001b[1;33m\u001b[0m\u001b[0m\n\u001b[0;32m     46\u001b[0m     \u001b[0mb6\u001b[0m \u001b[1;33m=\u001b[0m \u001b[0max\u001b[0m\u001b[1;33m.\u001b[0m\u001b[0mbar\u001b[0m\u001b[1;33m(\u001b[0m\u001b[0mx6\u001b[0m\u001b[1;33m,\u001b[0m \u001b[0my\u001b[0m\u001b[1;33m[\u001b[0m\u001b[1;36m4\u001b[0m\u001b[1;33m]\u001b[0m\u001b[1;33m,\u001b[0m\u001b[0mwidth\u001b[0m\u001b[1;33m=\u001b[0m\u001b[1;36m0.1\u001b[0m\u001b[1;33m,\u001b[0m\u001b[0mcolor\u001b[0m \u001b[1;33m=\u001b[0m \u001b[1;34m'dodgerblue'\u001b[0m\u001b[1;33m,\u001b[0m \u001b[0malign\u001b[0m\u001b[1;33m=\u001b[0m\u001b[1;34m'center'\u001b[0m\u001b[1;33m,\u001b[0m  \u001b[0mhatch\u001b[0m\u001b[1;33m=\u001b[0m\u001b[1;34m\"\"\u001b[0m\u001b[1;33m,\u001b[0m\u001b[0medgecolor\u001b[0m\u001b[1;33m=\u001b[0m\u001b[1;34m'#000000'\u001b[0m\u001b[1;33m)\u001b[0m\u001b[1;33m\u001b[0m\u001b[1;33m\u001b[0m\u001b[0m\n\u001b[1;32m---> 47\u001b[1;33m     \u001b[0mb7\u001b[0m \u001b[1;33m=\u001b[0m \u001b[0max\u001b[0m\u001b[1;33m.\u001b[0m\u001b[0mbar\u001b[0m\u001b[1;33m(\u001b[0m\u001b[0mx7\u001b[0m\u001b[1;33m,\u001b[0m \u001b[0my\u001b[0m\u001b[1;33m[\u001b[0m\u001b[1;36m5\u001b[0m\u001b[1;33m]\u001b[0m\u001b[1;33m,\u001b[0m\u001b[0mwidth\u001b[0m\u001b[1;33m=\u001b[0m\u001b[1;36m0.1\u001b[0m\u001b[1;33m,\u001b[0m\u001b[0mcolor\u001b[0m \u001b[1;33m=\u001b[0m \u001b[1;34m'gold'\u001b[0m\u001b[1;33m,\u001b[0m \u001b[0malign\u001b[0m\u001b[1;33m=\u001b[0m\u001b[1;34m'center'\u001b[0m\u001b[1;33m,\u001b[0m  \u001b[0mhatch\u001b[0m\u001b[1;33m=\u001b[0m\u001b[1;34m\"++\"\u001b[0m\u001b[1;33m,\u001b[0m\u001b[0medgecolor\u001b[0m\u001b[1;33m=\u001b[0m\u001b[1;34m'#000000'\u001b[0m\u001b[1;33m)\u001b[0m\u001b[1;33m\u001b[0m\u001b[1;33m\u001b[0m\u001b[0m\n\u001b[0m\u001b[0;32m     48\u001b[0m \u001b[1;31m#     b8 = ax.bar(x8, y[6],width=0.1,color = 'peru', align='center',  hatch=\"**\",edgecolor='#000000')\u001b[0m\u001b[1;33m\u001b[0m\u001b[1;33m\u001b[0m\u001b[1;33m\u001b[0m\u001b[0m\n\u001b[0;32m     49\u001b[0m \u001b[1;33m\u001b[0m\u001b[0m\n",
      "\u001b[1;31mIndexError\u001b[0m: index 5 is out of bounds for axis 0 with size 5"
     ]
    },
    {
     "data": {
      "image/png": "[encoded data removed]",
      "text/plain": [
       "<Figure size 432x288 with 1 Axes>"
      ]
     },
     "metadata": {
      "needs_background": "light"
     },
     "output_type": "display_data"
    }
   ],
   "source": [
    "def get_data(file_path):\n",
    "    output = []\n",
    "    with open(file_path,'r') as f:\n",
    "        for line in f.readlines():\n",
    "            k = []\n",
    "            line = line.split('\\t')\n",
    "            for j in line:\n",
    "                k.append(float(j.split('/')[1]))\n",
    "            output.append(k)\n",
    "    return np.asarray(output)[:-1].T\n",
    "\n",
    "file_names = ['data/emb_size_bpr_comcom','data/emb_size_bpr_techcom', 'data/emb_size_hinge_comcom','data/emb_size_hinge_techcom']\n",
    "# x7 = [1.3,2.3,3.3]\n",
    "# x8 =[ 1.35,2.35,3.35]\n",
    "x7 = [ 1.25,2.25,3.25]\n",
    "x6 = [ 1.15,2.15,3.15]\n",
    "x5 = [1.05,2.05,3.05]\n",
    "x4 = [ 0.95,1.95,2.95]\n",
    "x3 = [ 0.85,1.85,2.85]\n",
    "# x2 =  [ 0.75,1.75,2.75]\n",
    "# x =  [ 0.65,1.65,2.65]\n",
    "\n",
    "#if param.language == 'all':\n",
    "# y1 = [652,5647,20959] \n",
    "# y2 = [26,336,62] \n",
    "# y3 = [68,1680,5228] \n",
    "# y4 = [14,76,422]\n",
    "# y5 = [25,323,1876]\n",
    "# y6 = [198,353,2624]\n",
    "# y7 = [389,7538,23095]\n",
    "# y8 = [10,50,200]\n",
    "for index, file_name in enumerate(file_names):\n",
    "    y = get_data(file_name)\n",
    "    xticks = [\"top5\", \"top10\", \"top15\", \"top20\"]\n",
    "    if index == 0:\n",
    "        xlabel = 'margin hinge loss comcom'\n",
    "    else:\n",
    "        xlabel = 'margin hinge loss techcom'\n",
    "\n",
    "    ax = plt.subplot(111)\n",
    "    # b1 = ax.bar(x, y1,width=0.1,color='black', align='center',  hatch=\"\",edgecolor='#000000')\n",
    "#     b2 = ax.bar(x2, y[0],width=0.1,color = 'red', align='center',  hatch=\"///\",edgecolor='#000000')\n",
    "    b3 = ax.bar(x3, y[1],width=0.1,color = 'orange', align='center',  hatch=\"...\",edgecolor='#000000')\n",
    "    b4 = ax.bar(x4, y[2],width=0.1,color = 'green', align='center',  hatch=\"\\\\\",edgecolor='#000000')\n",
    "    b5 = ax.bar(x5, y[3],width=0.1,color = 'darkcyan', align='center',  hatch=\"--\",edgecolor='#000000')\n",
    "    b6 = ax.bar(x6, y[4],width=0.1,color = 'dodgerblue', align='center',  hatch=\"\",edgecolor='#000000')\n",
    "    b7 = ax.bar(x7, y[5],width=0.1,color = 'gold', align='center',  hatch=\"++\",edgecolor='#000000')\n",
    "#     b8 = ax.bar(x8, y[6],width=0.1,color = 'peru', align='center',  hatch=\"**\",edgecolor='#000000')\n",
    "\n",
    "    ax.set_ylabel('Overlap accuracy',fontsize=22)\n",
    "    plt.xticks([ 1,2,3], [\"Top5\", \"Top10\", \"Top15\"], fontsize = 18)\n",
    "    ax.set_xlim(0.5,3.5)\n",
    "    # yticks(fontsize=22);\n",
    "#     ax.set_yscale('log')\n",
    "#     plt.yticks([1,10,100,1000,10000,100000],fontsize=18)\n",
    "    ax.set_ylim(0,13)\n",
    "\n",
    "    plt.gca().yaxis.grid(True)\n",
    "\n",
    "    box = ax.get_position()\n",
    "    ax.set_position([box.x0, box.y0, box.width , box.height*0.8])\n",
    "    ax.legend( (b3,b4,b5,b6, b7), ('32','64','128','256','512'), fontsize=13, frameon=False, labelspacing=0, borderpad = 0.01,\n",
    "               columnspacing= 0.45, handletextpad=0.3, ncol=4, loc='upper left')\n",
    "    # dir = \"./chart_output/\"\n",
    "    plt.show()\n",
    "#     savefig(\"NAME_Time.png\", bbox_inches='tight')\n"
   ]
  },
  {
   "cell_type": "code",
   "execution_count": null,
   "metadata": {},
   "outputs": [],
   "source": []
  }
 ],
 "metadata": {
  "kernelspec": {
   "display_name": "Python 3",
   "language": "python",
   "name": "python3"
  },
  "language_info": {
   "codemirror_mode": {
    "name": "ipython",
    "version": 3
   },
   "file_extension": ".py",
   "mimetype": "text/x-python",
   "name": "python",
   "nbconvert_exporter": "python",
   "pygments_lexer": "ipython3",
   "version": "3.8.5"
  }
 },
 "nbformat": 4,
 "nbformat_minor": 4
}
