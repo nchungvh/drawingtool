{
 "cells": [
  {
   "cell_type": "code",
   "execution_count": 1,
   "metadata": {},
   "outputs": [],
   "source": [
    "import pandas as pd\n",
    "y= [[-0.674643274,-0.009971144602],[-0.6370736288,-0.224955983],[-0.9371873577,-0.8701837336],[-0.8887542509,-0.8550943148],[-0.92715126,-0.838250044],[-0.9517360287,-0.8758979485]]\n",
    "yeast = pd.DataFrame(y, index=['yeast', 'human','word.','cora','cite.','pubmed'],columns=['gnn','wl'])\n"
   ]
  },
  {
   "cell_type": "code",
   "execution_count": 3,
   "metadata": {},
   "outputs": [
    {
     "data": {
      "image/png": "[encoded data removed]",
      "text/plain": [
       "<Figure size 351.875x258.352 with 2 Axes>"
      ]
     },
     "metadata": {
      "needs_background": "light"
     },
     "output_type": "display_data"
    }
   ],
   "source": [
    "import matplotlib.pyplot as plt\n",
    "\n",
    "import proplot as plot\n",
    "import numpy as np\n",
    "import pandas as pd\n",
    "plot.rc['title.loc'] = 'ul'\n",
    "plot.rc['axes.ymargin'] = plot.rc['axes.xmargin'] = 0.05\n",
    "plot.rc.small=14\n",
    "plot.rc.large=24\n",
    "\n",
    "f, axs = plot.subplots(\n",
    "    nrows=1, ncols=1, aspect=1.5, axwidth=4,\n",
    "    share=1\n",
    ")\n",
    "\n",
    "axs.format(\n",
    "    xlim=(-1,6),xlocator=[0,1,2,3,4,5], xminorticks=1,\n",
    "     xgrid=False\n",
    ")\n",
    "\n",
    "cols = ['VF2','TurboISO','MQO','Ours']\n",
    "\n",
    "cycle=plot.Cycle(['#1f77b4','#ff7f0e','#2ca02c','#7f7f7f'])\n",
    "\n",
    "# Asking add_errorbars to calculate bars\n",
    "ax1 = axs[0]\n",
    "obj = ax1.bar(yeast, cycle=cycle,legend='t',labels=['MPNN','WL'],width=0.8,legend_kw={'frameon':False})\n",
    "# ax1.errorbar(x=[0,1,2,3], y=cora, xerr=0.2, yerr=10,  fmt='o')\n",
    "# obj.add_errorbars()\n",
    "ax1.format(ylabel='Correlation', ygrid=False)\n",
    "\n",
    "# obj = axs[1].bar(human, cycle=cycle, labels=cols, legend='t', legend_kw={\"frameon\":False, \"ncol\":4, 'fontsize':22})\n",
    "# # ax1.errorbar(x=[0,1,2,3], y=cora, xerr=0.2, yerr=10,  fmt='o')\n",
    "# # obj.add_errorbars()\n",
    "# axs[1].format(ylabel='Time (ms)', title='Human', ygrid=False)\n",
    "\n",
    "\n",
    "# obj = axs[2].bar(cora, cycle=cycle)\n",
    "# # ax1.errorbar(x=[0,1,2,3], y=cora, xerr=0.2, yerr=10,  fmt='o')\n",
    "# # obj.add_errorbars()\n",
    "# axs[2].format(ylabel='Time (ms)', title='Cora', ygrid=False)\n",
    "\n",
    "# obj = axs[3].bar(citeseer, cycle=cycle)\n",
    "# # ax1.errorbar(x=[0,1,2,3], y=cora, xerr=0.2, yerr=10,  fmt='o')\n",
    "# # obj.add_errorbars()\n",
    "# axs[3].format(ylabel='Time (ms)', title='Citeseer', ygrid=False)\n",
    "\n",
    "# obj = axs[4].bar(pubmed, cycle=cycle)\n",
    "# axs[4].format(ylabel='Time (ms)', title='Pubmed', ygrid=False)\n",
    "\n",
    "# obj = axs[5].bar(wordnet, cycle=cycle)\n",
    "# axs[5].format(ylabel='Time (ms)', title='Wordnet', ygrid=False)\n",
    "plt.savefig(\"wlvsgnn.eps\")\n",
    "plt.show()"
   ]
  },
  {
   "cell_type": "code",
   "execution_count": null,
   "metadata": {},
   "outputs": [],
   "source": []
  }
 ],
 "metadata": {
  "kernelspec": {
   "display_name": "Python 3",
   "language": "python",
   "name": "python3"
  },
  "language_info": {
   "codemirror_mode": {
    "name": "ipython",
    "version": 3
   },
   "file_extension": ".py",
   "mimetype": "text/x-python",
   "name": "python",
   "nbconvert_exporter": "python",
   "pygments_lexer": "ipython3",
   "version": "3.7.4"
  }
 },
 "nbformat": 4,
 "nbformat_minor": 2
}
